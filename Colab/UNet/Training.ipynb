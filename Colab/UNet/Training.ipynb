{
 "cells": [
  {
   "cell_type": "markdown",
   "metadata": {},
   "source": [
    "## Install all packages and cuda libraries"
   ]
  },
  {
   "cell_type": "code",
   "execution_count": null,
   "metadata": {},
   "outputs": [],
   "source": [
    "!sudo apt-get install python3.9\n",
    "!pip install pyparsing==2.2.1 tensorflow-gpu==2.10.0 scikit-image scikit-learn scipy==1.8 imgaug==0.4.0 Ipython keras opencv-python jupyter==1.0.0 numpy h5py==3.6.0 ipyfilechooser==0.4.2"
   ]
  },
  {
   "cell_type": "code",
   "execution_count": null,
   "metadata": {},
   "outputs": [],
   "source": [
    "from google.colab import drive\n",
    "drive.mount(\"/content/drive\")\n",
    "%cd \"/content/drive/MyDrive/Colab Notebooks/UNet/\""
   ]
  },
  {
   "cell_type": "markdown",
   "metadata": {},
   "source": [
    "## Loading\n",
    "\n",
    "The first step is to load the libraries and functions we need."
   ]
  },
  {
   "cell_type": "code",
   "execution_count": 1,
   "metadata": {},
   "outputs": [],
   "source": [
    "from utils import training_parameters_interface, training\n",
    "%load_ext tensorboard\n",
    "import os"
   ]
  },
  {
   "cell_type": "markdown",
   "metadata": {},
   "source": [
    "## Setting parameters\n",
    "\n",
    "The second step is to define all parameters needed for training(s)."
   ]
  },
  {
   "cell_type": "code",
   "execution_count": 2,
   "metadata": {
    "scrolled": false
   },
   "outputs": [
    {
     "name": "stdout",
     "output_type": "stream",
     "text": [
      "\u001b[1mTraining directory\n"
     ]
    },
    {
     "data": {
      "application/vnd.jupyter.widget-view+json": {
       "model_id": "02e09a7dfdb0477688ec17a3b60be98d",
       "version_major": 2,
       "version_minor": 0
      },
      "text/plain": [
       "FileChooser(path='./datasets', filename='', title='HTML(value='', layout=Layout(display='none'))', show_hidden…"
      ]
     },
     "metadata": {},
     "output_type": "display_data"
    },
    {
     "name": "stdout",
     "output_type": "stream",
     "text": [
      "\u001b[1mValidation directory\n"
     ]
    },
    {
     "data": {
      "application/vnd.jupyter.widget-view+json": {
       "model_id": "615d6629d130416993ff7b49afdec6c3",
       "version_major": 2,
       "version_minor": 0
      },
      "text/plain": [
       "FileChooser(path='./datasets', filename='', title='HTML(value='', layout=Layout(display='none'))', show_hidden…"
      ]
     },
     "metadata": {},
     "output_type": "display_data"
    },
    {
     "name": "stdout",
     "output_type": "stream",
     "text": [
      "\u001b[1mOutput directory\n"
     ]
    },
    {
     "data": {
      "application/vnd.jupyter.widget-view+json": {
       "model_id": "9909ca3016554114a26b88b81bea50f4",
       "version_major": 2,
       "version_minor": 0
      },
      "text/plain": [
       "FileChooser(path='./models', filename='', title='HTML(value='', layout=Layout(display='none'))', show_hidden='…"
      ]
     },
     "metadata": {},
     "output_type": "display_data"
    },
    {
     "data": {
      "application/vnd.jupyter.widget-view+json": {
       "model_id": "e2b81d6066ec4cf6bde60ff90b319697",
       "version_major": 2,
       "version_minor": 0
      },
      "text/plain": [
       "HBox(children=(Label(value='Number of channels:', layout=Layout(height='30px', width='200px')), IntText(value=…"
      ]
     },
     "metadata": {},
     "output_type": "display_data"
    },
    {
     "data": {
      "application/vnd.jupyter.widget-view+json": {
       "model_id": "079e22cfccd544c0a66c064059e2c3f5",
       "version_major": 2,
       "version_minor": 0
      },
      "text/plain": [
       "HBox(children=(Label(value='Number of classes:', layout=Layout(height='30px', width='200px')), IntText(value=3…"
      ]
     },
     "metadata": {},
     "output_type": "display_data"
    },
    {
     "data": {
      "application/vnd.jupyter.widget-view+json": {
       "model_id": "11b890e285684f00869389ed126095e3",
       "version_major": 2,
       "version_minor": 0
      },
      "text/plain": [
       "HBox(children=(Label(value='Imaging field in x:', layout=Layout(height='30px', width='200px')), IntText(value=…"
      ]
     },
     "metadata": {},
     "output_type": "display_data"
    },
    {
     "data": {
      "application/vnd.jupyter.widget-view+json": {
       "model_id": "bfcd65df739740cb82ecdd44f159e283",
       "version_major": 2,
       "version_minor": 0
      },
      "text/plain": [
       "HBox(children=(Label(value='Imaging field in y:', layout=Layout(height='30px', width='200px')), IntText(value=…"
      ]
     },
     "metadata": {},
     "output_type": "display_data"
    },
    {
     "data": {
      "application/vnd.jupyter.widget-view+json": {
       "model_id": "176c56ace54c4f2db32fcdea08b2962c",
       "version_major": 2,
       "version_minor": 0
      },
      "text/plain": [
       "HBox(children=(Label(value='Learning rate:', layout=Layout(height='30px', width='200px')), FloatText(value=0.0…"
      ]
     },
     "metadata": {},
     "output_type": "display_data"
    },
    {
     "data": {
      "application/vnd.jupyter.widget-view+json": {
       "model_id": "ac276851d6564c09a9d050eecf8bd945",
       "version_major": 2,
       "version_minor": 0
      },
      "text/plain": [
       "HBox(children=(Label(value='Number of epochs:', layout=Layout(height='30px', width='200px')), IntText(value=10…"
      ]
     },
     "metadata": {},
     "output_type": "display_data"
    },
    {
     "data": {
      "application/vnd.jupyter.widget-view+json": {
       "model_id": "f94a2e15a4af45249f3042a03fc48c19",
       "version_major": 2,
       "version_minor": 0
      },
      "text/plain": [
       "HBox(children=(Label(value='Number of augmentations:', layout=Layout(height='30px', width='200px')), IntText(v…"
      ]
     },
     "metadata": {},
     "output_type": "display_data"
    },
    {
     "data": {
      "application/vnd.jupyter.widget-view+json": {
       "model_id": "1167357a23314f7ba4dfa78f9542ee74",
       "version_major": 2,
       "version_minor": 0
      },
      "text/plain": [
       "HBox(children=(Label(value='Batch size:', layout=Layout(height='30px', width='200px')), IntText(value=1)))"
      ]
     },
     "metadata": {},
     "output_type": "display_data"
    },
    {
     "data": {
      "application/vnd.jupyter.widget-view+json": {
       "model_id": "8eda3b6f4b6346bea4702cc81eed9cc5",
       "version_major": 2,
       "version_minor": 0
      },
      "text/plain": [
       "HBox(children=(Label(value='Ratio of training in validation:', layout=Layout(height='30px', width='200px')), B…"
      ]
     },
     "metadata": {},
     "output_type": "display_data"
    }
   ],
   "source": [
    "nb_trainings = 1\n",
    "\n",
    "parameters = training_parameters_interface(nb_trainings)"
   ]
  },
  {
   "cell_type": "markdown",
   "metadata": {},
   "source": [
    "## Training U-Net\n",
    "\n",
    "Now, the training can start."
   ]
  },
  {
   "cell_type": "code",
   "execution_count": 7,
   "metadata": {
    "scrolled": true
   },
   "outputs": [
    {
     "name": "stdout",
     "output_type": "stream",
     "text": [
      "3 256 256 1\n",
      "D:\\Work\\Jupyter\\NucleiSegmentationAndMarkerIDentification-master\\UNet\\datasets\\nucleiSegmentation_E2Fs\\inputs_CF\\training\\ D:\\Work\\Jupyter\\NucleiSegmentationAndMarkerIDentification-master\\UNet\\datasets\\nucleiSegmentation_E2Fs\\inputs_CF\\validation\\ UNet_1ch_3cl_256_256_lr_0.0001_10DA_20ep20220422-143156 0.2 20 1 3 256 256 D:\\Work\\Jupyter\\NucleiSegmentationAndMarkerIDentification-master\\UNet\\models\\E2Fs\\ 0.0001 10 0.2\n",
      "99 training images\n",
      "3 validation images\n",
      "Epoch 1/20\n",
      "99/99 [==============================] - 14s 106ms/step - loss: 0.9253 - accuracy: 0.8103 - val_loss: 1.2676 - val_accuracy: 0.4196 - lr: 1.0000e-04\n",
      "Epoch 2/20\n",
      "99/99 [==============================] - 10s 96ms/step - loss: 0.8579 - accuracy: 0.8478 - val_loss: 1.2981 - val_accuracy: 0.4196 - lr: 1.0000e-04\n",
      "Epoch 3/20\n",
      "99/99 [==============================] - 11s 110ms/step - loss: 0.8357 - accuracy: 0.8582 - val_loss: 1.2384 - val_accuracy: 0.4447 - lr: 1.0000e-04\n",
      "Epoch 4/20\n",
      "99/99 [==============================] - 10s 106ms/step - loss: 0.8233 - accuracy: 0.8631 - val_loss: 1.1770 - val_accuracy: 0.5062 - lr: 1.0000e-04\n",
      "Epoch 5/20\n",
      "99/99 [==============================] - 10s 99ms/step - loss: 0.8126 - accuracy: 0.8665 - val_loss: 1.2492 - val_accuracy: 0.4541 - lr: 1.0000e-04\n",
      "Epoch 6/20\n",
      "99/99 [==============================] - 10s 101ms/step - loss: 0.8077 - accuracy: 0.8682 - val_loss: 1.1025 - val_accuracy: 0.5619 - lr: 1.0000e-04\n",
      "Epoch 7/20\n",
      "99/99 [==============================] - 10s 100ms/step - loss: 0.8032 - accuracy: 0.8701 - val_loss: 0.8581 - val_accuracy: 0.8147 - lr: 1.0000e-04\n",
      "Epoch 8/20\n",
      "99/99 [==============================] - 10s 98ms/step - loss: 0.7923 - accuracy: 0.8760 - val_loss: 0.8439 - val_accuracy: 0.8310 - lr: 1.0000e-04\n",
      "Epoch 9/20\n",
      "99/99 [==============================] - 10s 98ms/step - loss: 0.7927 - accuracy: 0.8748 - val_loss: 0.8361 - val_accuracy: 0.8314 - lr: 1.0000e-04\n",
      "Epoch 10/20\n",
      "99/99 [==============================] - 10s 97ms/step - loss: 0.7906 - accuracy: 0.8751 - val_loss: 0.8302 - val_accuracy: 0.8362 - lr: 1.0000e-04\n",
      "Epoch 11/20\n",
      "99/99 [==============================] - 10s 97ms/step - loss: 0.7869 - accuracy: 0.8779 - val_loss: 0.8269 - val_accuracy: 0.8462 - lr: 1.0000e-04\n",
      "Epoch 12/20\n",
      "99/99 [==============================] - 10s 99ms/step - loss: 0.7787 - accuracy: 0.8827 - val_loss: 0.8216 - val_accuracy: 0.8492 - lr: 1.0000e-04\n",
      "Epoch 13/20\n",
      "99/99 [==============================] - 10s 98ms/step - loss: 0.7814 - accuracy: 0.8806 - val_loss: 0.8219 - val_accuracy: 0.8464 - lr: 1.0000e-04\n",
      "Epoch 14/20\n",
      "99/99 [==============================] - 10s 101ms/step - loss: 0.7817 - accuracy: 0.8805 - val_loss: 0.8207 - val_accuracy: 0.8426 - lr: 1.0000e-04\n",
      "Epoch 15/20\n",
      "99/99 [==============================] - 10s 99ms/step - loss: 0.7748 - accuracy: 0.8853 - val_loss: 0.8399 - val_accuracy: 0.8325 - lr: 1.0000e-04\n",
      "Epoch 16/20\n",
      "99/99 [==============================] - 9s 96ms/step - loss: 0.7785 - accuracy: 0.8821 - val_loss: 0.8226 - val_accuracy: 0.8400 - lr: 1.0000e-04\n",
      "Epoch 17/20\n",
      "99/99 [==============================] - 10s 102ms/step - loss: 0.7715 - accuracy: 0.8869 - val_loss: 0.8241 - val_accuracy: 0.8472 - lr: 1.0000e-04\n",
      "Epoch 18/20\n",
      "99/99 [==============================] - 10s 101ms/step - loss: 0.7740 - accuracy: 0.8854 - val_loss: 0.8216 - val_accuracy: 0.8427 - lr: 1.0000e-04\n",
      "Epoch 19/20\n",
      "99/99 [==============================] - 10s 99ms/step - loss: 0.7722 - accuracy: 0.8868 - val_loss: 0.8218 - val_accuracy: 0.8452 - lr: 1.0000e-04\n",
      "Epoch 20/20\n",
      "99/99 [==============================] - 10s 104ms/step - loss: 0.7633 - accuracy: 0.8936 - val_loss: 0.8228 - val_accuracy: 0.8435 - lr: 5.0000e-05\n"
     ]
    }
   ],
   "source": [
    "training(nb_trainings, parameters)"
   ]
  },
  {
   "cell_type": "markdown",
   "metadata": {},
   "source": [
    "## Showing loss and accuracy with TensorBoard"
   ]
  },
  {
   "cell_type": "code",
   "execution_count": 5,
   "metadata": {},
   "outputs": [
    {
     "data": {
      "text/html": [
       "\n",
       "      <iframe id=\"tensorboard-frame-2e6bc90ad47f81c6\" width=\"100%\" height=\"800\" frameborder=\"0\">\n",
       "      </iframe>\n",
       "      <script>\n",
       "        (function() {\n",
       "          const frame = document.getElementById(\"tensorboard-frame-2e6bc90ad47f81c6\");\n",
       "          const url = new URL(\"/\", window.location);\n",
       "          const port = 1003;\n",
       "          if (port) {\n",
       "            url.port = port;\n",
       "          }\n",
       "          frame.src = url;\n",
       "        })();\n",
       "      </script>\n",
       "    "
      ],
      "text/plain": [
       "<IPython.core.display.HTML object>"
      ]
     },
     "metadata": {},
     "output_type": "display_data"
    }
   ],
   "source": [
    "%tensorboard --logdir {\"./logs\"} --host=127.0.0.1 --port=1003"
   ]
  },
  {
   "cell_type": "code",
   "execution_count": null,
   "metadata": {},
   "outputs": [],
   "source": []
  }
 ],
 "metadata": {
  "kernelspec": {
   "display_name": "Python 3 (ipykernel)",
   "language": "python",
   "name": "python3"
  },
  "language_info": {
   "codemirror_mode": {
    "name": "ipython",
    "version": 3
   },
   "file_extension": ".py",
   "mimetype": "text/x-python",
   "name": "python",
   "nbconvert_exporter": "python",
   "pygments_lexer": "ipython3",
   "version": "3.9.7"
  }
 },
 "nbformat": 4,
 "nbformat_minor": 1
}
